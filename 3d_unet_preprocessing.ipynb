{
 "cells": [
  {
   "cell_type": "code",
   "execution_count": 1,
   "id": "fd451a5b-2d27-4797-ac93-8c60c7f1c0ba",
   "metadata": {},
   "outputs": [],
   "source": [
    "## import pandas as pd\n",
    "import numpy as np\n",
    "import tensorflow as tf\n",
    "import os \n",
    "from glob import glob\n",
    "import tqdm\n",
    "from tqdm import tqdm\n",
    "import pandas as pd\n",
    "import pydicom\n",
    "import nrrd\n",
    "from einops import rearrange, reduce, repeat"
   ]
  },
  {
   "cell_type": "code",
   "execution_count": 2,
   "id": "deb704eb-c740-4861-b25f-a54f4c97e3c8",
   "metadata": {},
   "outputs": [],
   "source": [
    "import cv2\n",
    "import matplotlib.pyplot as plt\n",
    "from sklearn.utils import shuffle\n",
    "import math\n",
    "import tensorflow as tf\n",
    "from tensorflow.keras.layers import *\n",
    "from tensorflow.keras.models import *\n",
    "from sklearn.model_selection import train_test_split"
   ]
  },
  {
   "cell_type": "code",
   "execution_count": 11,
   "id": "cd7018b8-92e8-4704-a370-6cd1402fcee5",
   "metadata": {},
   "outputs": [],
   "source": [
    "ptid = sorted(os.listdir('./data/original1125/'))\n",
    "df_ptid = pd.DataFrame(ptid, columns=['ptid'])\n",
    "all_inputpath = list('./data/original1125/'+df_ptid['ptid']+'/img/')\n",
    "all_label = './data/original1125/'+df_ptid['ptid']\n",
    "all_labelpath = []\n",
    "for i in range(len(all_label)):\n",
    "    all_labelpath.append(glob(all_label[i]+'/*.nrrd')[0])"
   ]
  },
  {
   "cell_type": "code",
   "execution_count": 12,
   "id": "03552119-1852-4885-80d7-198a5fdde8ef",
   "metadata": {},
   "outputs": [
    {
     "data": {
      "text/plain": [
       "43"
      ]
     },
     "execution_count": 12,
     "metadata": {},
     "output_type": "execute_result"
    }
   ],
   "source": [
    "len(df_ptid)"
   ]
  },
  {
   "cell_type": "code",
   "execution_count": 13,
   "id": "4d87b14a-c261-4d84-98de-5ad10640b3b8",
   "metadata": {},
   "outputs": [
    {
     "data": {
      "text/plain": [
       "('./data/original1125/09638755/img/',\n",
       " './data/original1125/09638755/Segmentation_10.seg.nrrd')"
      ]
     },
     "execution_count": 13,
     "metadata": {},
     "output_type": "execute_result"
    }
   ],
   "source": [
    "all_inputpath[0], all_labelpath[0]"
   ]
  },
  {
   "cell_type": "code",
   "execution_count": 14,
   "id": "da1cbfb8-3ba0-4d2e-a2d9-6ba527d94cb9",
   "metadata": {},
   "outputs": [
    {
     "name": "stdout",
     "output_type": "stream",
     "text": [
      "31 7 5\n"
     ]
    }
   ],
   "source": [
    "train_input_files = all_inputpath[:31]\n",
    "train_label_files = all_labelpath[:31]\n",
    "\n",
    "val_input_files = all_inputpath[31:38]\n",
    "val_label_files = all_labelpath[31:38]\n",
    "\n",
    "test_input_files = all_inputpath[38:]\n",
    "test_label_files = all_labelpath[38:]\n",
    "\n",
    "print(len(train_input_files), len(val_input_files), len(test_input_files))"
   ]
  },
  {
   "cell_type": "code",
   "execution_count": null,
   "id": "a4be2fb6-258b-492b-9e5d-3832f8048284",
   "metadata": {},
   "outputs": [],
   "source": [
    "print(train_input_files)\n",
    "print(val_input_files)\n",
    "print(test_input_files)"
   ]
  },
  {
   "cell_type": "code",
   "execution_count": null,
   "id": "e209cddd-9b23-406a-958b-25a16cd80e5a",
   "metadata": {},
   "outputs": [],
   "source": [
    "print(train_label_files)\n",
    "print(val_label_files)\n",
    "print(test_label_files)"
   ]
  },
  {
   "cell_type": "code",
   "execution_count": null,
   "id": "a42a018e-2073-4478-a4a7-c8c9c0e1e9c3",
   "metadata": {},
   "outputs": [],
   "source": [
    "BATCH_SIZE = 8\n",
    "img_size = 128\n",
    "weights = None\n",
    "learning_rate = 1e-4\n",
    "EPOCHS = 400\n",
    "dropout_rate = 0.1"
   ]
  },
  {
   "cell_type": "code",
   "execution_count": null,
   "id": "bde3d7ff-f867-47e5-8916-1f8abb2d48d3",
   "metadata": {},
   "outputs": [],
   "source": [
    "def cut_img(img_path_list, save_path, stride):\n",
    "    os.makedirs(f'{save_path}{img_size}', exist_ok=True)\n",
    "    num = 0\n",
    "    for path in tqdm(img_path_list):\n",
    "        l = len(os.listdir(path))\n",
    "        print(l)\n",
    "        rawimg = np.zeros((512,512,l))\n",
    "        for i in range(l):\n",
    "            slice = pydicom.read_file(path+'IMG'+str(i+1))\n",
    "            s = int(slice.RescaleSlope)\n",
    "            b = int(slice.RescaleIntercept)\n",
    "            image = s * slice.pixel_array + b\n",
    "            rawimg[:,:,i]=image\n",
    "        rawimg = np.expand_dims(rawimg,axis=3)    \n",
    "        clipimg = np.clip(rawimg, -1450,50)\n",
    "        img = (clipimg-np.min(clipimg))/(np.max(clipimg)-np.min(clipimg))\n",
    "        for top in range(0, img.shape[0], stride):\n",
    "            for left in range(0, img.shape[1], stride):\n",
    "                for slicer in range(0, img.shape[2], stride):\n",
    "                    piece = np.zeros([img_size, img_size, img_size, 1])\n",
    "                    temp = img[top:top+img_size, left:left+img_size, slicer:slicer+img_size, :]\n",
    "                    piece[:temp.shape[0], :temp.shape[1], :temp.shape[2], :] = temp\n",
    "                    np.save(f'{save_path}{img_size}/{num}.npy', piece)\n",
    "                    num+=1"
   ]
  },
  {
   "cell_type": "code",
   "execution_count": null,
   "id": "24d746b6-f7c9-42d4-98e3-c08e0efe3c3c",
   "metadata": {},
   "outputs": [],
   "source": [
    "def cut_img_label(img_path_list, save_path, stride):\n",
    "    os.makedirs(f'{save_path}{img_size}', exist_ok=True)\n",
    "    num = 0\n",
    "    for path in tqdm(img_path_list):\n",
    "        readdata, header = nrrd.read(path, index_order='C') #readdata (c h w)\n",
    "        readdata = readdata[::-1] #reverse axial (-c h w)\n",
    "        readdata = rearrange(readdata, 'c h w  -> h w c')\n",
    "        readdata[readdata>0.5] = 1 #integrate label\n",
    "        rawimg = np.expand_dims(readdata,axis=3)\n",
    "        clipimg = np.clip(rawimg, -1450,50)\n",
    "        img = (clipimg-np.min(clipimg))/(np.max(clipimg)-np.min(clipimg))\n",
    "        for top in range(0, img.shape[0], stride):\n",
    "            for left in range(0, img.shape[1], stride):\n",
    "                for slicer in range(0, img.shape[2], stride):\n",
    "                    piece = np.zeros([img_size, img_size, img_size, 1])\n",
    "                    temp = img[top:top+img_size, left:left+img_size, slicer:slicer+img_size, :]\n",
    "                    piece[:temp.shape[0], :temp.shape[1], :temp.shape[2], :] = temp\n",
    "                    np.save(f'{save_path}{img_size}/{num}.npy', piece)\n",
    "                    num+=1"
   ]
  },
  {
   "cell_type": "code",
   "execution_count": null,
   "id": "dab5250c-1191-4b17-8983-5249373a2154",
   "metadata": {
    "tags": []
   },
   "outputs": [],
   "source": [
    "cut_img(train_input_files, f'data{img_size}/train_input_img_', img_size)\n",
    "cut_img_label(train_label_files, f'data{img_size}/train_label_img_', img_size)\n",
    "cut_img(val_input_files, f'data{img_size}/val_input_img_', img_size)\n",
    "cut_img_label(val_label_files, f'data{img_size}/val_label_img_', img_size)"
   ]
  }
 ],
 "metadata": {
  "kernelspec": {
   "display_name": "Python 3",
   "language": "python",
   "name": "python3"
  },
  "language_info": {
   "codemirror_mode": {
    "name": "ipython",
    "version": 3
   },
   "file_extension": ".py",
   "mimetype": "text/x-python",
   "name": "python",
   "nbconvert_exporter": "python",
   "pygments_lexer": "ipython3",
   "version": "3.8.10"
  }
 },
 "nbformat": 4,
 "nbformat_minor": 5
}
